{
 "cells": [
  {
   "cell_type": "code",
   "execution_count": 1,
   "id": "1f9b3a73",
   "metadata": {},
   "outputs": [],
   "source": [
    "import cv2\n",
    "import numpy as np\n",
    "from matplotlib import pyplot as py"
   ]
  },
  {
   "cell_type": "markdown",
   "id": "8530c41b",
   "metadata": {},
   "source": [
    "## Edge Detection for Image"
   ]
  },
  {
   "cell_type": "code",
   "execution_count": 2,
   "id": "16767ceb",
   "metadata": {},
   "outputs": [],
   "source": [
    "img=cv2.imread('nature1.jpg',0)"
   ]
  },
  {
   "cell_type": "code",
   "execution_count": 28,
   "id": "ad39f17d",
   "metadata": {},
   "outputs": [],
   "source": [
    "canny=cv2.Canny(img ,90,100)"
   ]
  },
  {
   "cell_type": "code",
   "execution_count": 31,
   "id": "adaa2618",
   "metadata": {},
   "outputs": [
    {
     "data": {
      "text/plain": [
       "-1"
      ]
     },
     "execution_count": 31,
     "metadata": {},
     "output_type": "execute_result"
    }
   ],
   "source": [
    "cv2.imshow('ORG',img)\n",
    "cv2.imshow('CAN',canny)\n",
    "cv2.waitKey(0)"
   ]
  },
  {
   "cell_type": "markdown",
   "id": "28ad7d5e",
   "metadata": {},
   "source": [
    "## Edge Detection for video\n"
   ]
  },
  {
   "cell_type": "code",
   "execution_count": 11,
   "id": "2f39acf5",
   "metadata": {},
   "outputs": [],
   "source": [
    "vid=cv2.VideoCapture(\"video1.mp4\")"
   ]
  },
  {
   "cell_type": "code",
   "execution_count": 12,
   "id": "ca350bd3",
   "metadata": {},
   "outputs": [],
   "source": [
    "while(1):\n",
    "    ret,frame=vid.read()\n",
    "    gray=cv2.cvtColor(frame,cv2.COLOR_BGR2GRAY)\n",
    "    cv2.imshow(\"nature\",frame)\n",
    "    edges=cv2.Canny(frame,100,200)\n",
    "    cv2.imshow(\"Edges\",edges)\n",
    "    if cv2.waitKey(5)& 0xFF ==ord('g'):\n",
    "        break\n",
    "vid.release()\n",
    "cv2.destroyAllWindows()"
   ]
  },
  {
   "cell_type": "code",
   "execution_count": null,
   "id": "c0b325de",
   "metadata": {},
   "outputs": [],
   "source": []
  }
 ],
 "metadata": {
  "kernelspec": {
   "display_name": "Python 3 (ipykernel)",
   "language": "python",
   "name": "python3"
  },
  "language_info": {
   "codemirror_mode": {
    "name": "ipython",
    "version": 3
   },
   "file_extension": ".py",
   "mimetype": "text/x-python",
   "name": "python",
   "nbconvert_exporter": "python",
   "pygments_lexer": "ipython3",
   "version": "3.9.16"
  }
 },
 "nbformat": 4,
 "nbformat_minor": 5
}
