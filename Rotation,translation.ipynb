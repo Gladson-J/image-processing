{
 "cells": [
  {
   "cell_type": "markdown",
   "id": "865cd6cf",
   "metadata": {},
   "source": [
    "#  Rotation"
   ]
  },
  {
   "cell_type": "code",
   "execution_count": 1,
   "id": "35ea6b39",
   "metadata": {},
   "outputs": [],
   "source": [
    "import cv2\n",
    "\n",
    "import numpy as nump"
   ]
  },
  {
   "cell_type": "code",
   "execution_count": 24,
   "id": "dd222c3a",
   "metadata": {},
   "outputs": [],
   "source": [
    "img=cv2.imread(\"tree1.jpg\")"
   ]
  },
  {
   "cell_type": "code",
   "execution_count": 25,
   "id": "1e518175",
   "metadata": {},
   "outputs": [
    {
     "data": {
      "text/plain": [
       "-1"
      ]
     },
     "execution_count": 25,
     "metadata": {},
     "output_type": "execute_result"
    }
   ],
   "source": [
    "cv2.imshow(\"img\",img)\n",
    "cv2.waitKey(0)"
   ]
  },
  {
   "cell_type": "code",
   "execution_count": 26,
   "id": "30a0b141",
   "metadata": {},
   "outputs": [
    {
     "name": "stdout",
     "output_type": "stream",
     "text": [
      "(480, 771, 3)\n",
      "480\n",
      "771\n"
     ]
    }
   ],
   "source": [
    "shape=img.shape\n",
    "print(shape)\n",
    "height,width=img.shape[:2]\n",
    "print(height)\n",
    "print(width)"
   ]
  },
  {
   "cell_type": "code",
   "execution_count": 27,
   "id": "ca498576",
   "metadata": {},
   "outputs": [
    {
     "name": "stdout",
     "output_type": "stream",
     "text": [
      "(240.0, 385.5)\n"
     ]
    }
   ],
   "source": [
    "center=(height/2,width/2)\n",
    "print(center)"
   ]
  },
  {
   "cell_type": "code",
   "execution_count": 28,
   "id": "6cf9053f",
   "metadata": {},
   "outputs": [
    {
     "name": "stdout",
     "output_type": "stream",
     "text": [
      "[[ 3.061617e-17  5.000000e-01  4.725000e+01]\n",
      " [-5.000000e-01  3.061617e-17  5.055000e+02]]\n"
     ]
    }
   ],
   "source": [
    "rotated_matrix=cv2.getRotationMatrix2D(center=center,angle=90,scale=0.5)\n",
    "print(rotated_matrix)"
   ]
  },
  {
   "cell_type": "code",
   "execution_count": 29,
   "id": "cb05199c",
   "metadata": {},
   "outputs": [
    {
     "data": {
      "text/plain": [
       "-1"
      ]
     },
     "execution_count": 29,
     "metadata": {},
     "output_type": "execute_result"
    }
   ],
   "source": [
    "rotated_image=cv2.warpAffine(src=img,M=rotated_matrix,dsize=(width,height))\n",
    "cv2.imshow(\"original image\",img)\n",
    "cv2.waitKey(0)\n",
    "cv2.imshow(\"Rotated image\",rotated_image)\n",
    "cv2.waitKey(0)"
   ]
  },
  {
   "cell_type": "markdown",
   "id": "5c67bdc4",
   "metadata": {},
   "source": [
    "#  Translation"
   ]
  },
  {
   "cell_type": "code",
   "execution_count": 31,
   "id": "43215c0b",
   "metadata": {},
   "outputs": [],
   "source": [
    "tx,ty=width/100,height/100"
   ]
  },
  {
   "cell_type": "code",
   "execution_count": 76,
   "id": "84532618",
   "metadata": {},
   "outputs": [],
   "source": [
    "translation_matrix=nump.array([[1,0,tx],[0,1,ty]])"
   ]
  },
  {
   "cell_type": "code",
   "execution_count": 77,
   "id": "b16709d1",
   "metadata": {},
   "outputs": [],
   "source": [
    "translated_image=cv2.warpAffine(src=img,M=translation_matrix,dsize=(width,height))"
   ]
  },
  {
   "cell_type": "code",
   "execution_count": 78,
   "id": "0a9b2013",
   "metadata": {},
   "outputs": [
    {
     "data": {
      "text/plain": [
       "-1"
      ]
     },
     "execution_count": 78,
     "metadata": {},
     "output_type": "execute_result"
    }
   ],
   "source": [
    "cv2.imshow(\"Translation\",translated_image)\n",
    "cv2.waitKey(0)"
   ]
  },
  {
   "cell_type": "markdown",
   "id": "dcab0460",
   "metadata": {},
   "source": []
  },
  {
   "cell_type": "code",
   "execution_count": null,
   "id": "b72a1ca0",
   "metadata": {},
   "outputs": [],
   "source": []
  }
 ],
 "metadata": {
  "kernelspec": {
   "display_name": "Python 3 (ipykernel)",
   "language": "python",
   "name": "python3"
  },
  "language_info": {
   "codemirror_mode": {
    "name": "ipython",
    "version": 3
   },
   "file_extension": ".py",
   "mimetype": "text/x-python",
   "name": "python",
   "nbconvert_exporter": "python",
   "pygments_lexer": "ipython3",
   "version": "3.9.16"
  }
 },
 "nbformat": 4,
 "nbformat_minor": 5
}
