{
 "cells": [
  {
   "cell_type": "code",
   "execution_count": 1,
   "id": "073e3349",
   "metadata": {},
   "outputs": [
    {
     "name": "stdout",
     "output_type": "stream",
     "text": [
      "Requirement already satisfied: opencv-contrib-python in c:\\users\\sn150\\appdata\\roaming\\python\\python39\\site-packages (4.7.0.72)\n",
      "Requirement already satisfied: numpy>=1.17.0 in c:\\users\\sn150\\anaconda3\\envs\\gladson_ai\\lib\\site-packages (from opencv-contrib-python) (1.24.1)\n",
      "Note: you may need to restart the kernel to use updated packages.\n"
     ]
    }
   ],
   "source": [
    "pip install --user opencv-contrib-python"
   ]
  },
  {
   "cell_type": "code",
   "execution_count": 2,
   "id": "afb0b4d3",
   "metadata": {},
   "outputs": [],
   "source": [
    "import cv2\n"
   ]
  },
  {
   "cell_type": "code",
   "execution_count": 3,
   "id": "39b47423",
   "metadata": {},
   "outputs": [],
   "source": [
    "cap=cv2.VideoCapture('dhoni.mp4')"
   ]
  },
  {
   "cell_type": "code",
   "execution_count": 4,
   "id": "78941780",
   "metadata": {},
   "outputs": [],
   "source": [
    "#Bounding Box\n",
    "def drawbox(img,box):\n",
    "    x,y,w,h=int(box[0]),int(box[1]),int(box[2]),int(box[3])\n",
    "    cv2.rectangle(img,(x,y),((x+w),(y+h)),(0,0,255),1)\n",
    "    cv2.putText(img,'Dhoni',(75,75),cv2.FONT_HERSHEY_SIMPLEX,0.7,(0,255,0),1)"
   ]
  },
  {
   "cell_type": "code",
   "execution_count": 5,
   "id": "3480b69e",
   "metadata": {},
   "outputs": [
    {
     "data": {
      "text/plain": [
       "<function destroyAllWindows>"
      ]
     },
     "execution_count": 5,
     "metadata": {},
     "output_type": "execute_result"
    }
   ],
   "source": [
    "#Tracking methods\n",
    "#tracker=cv2.legacy.TrackerMedianFlow_create()\n",
    "tracker=cv2.TrackerCSRT_create()\n",
    "#tracker=cv2.legacy.TrackerMOSE_create()\n",
    "success,img=cap.read()\n",
    "box=cv2.selectROI('Dhoni',img,False)\n",
    "tracker.init(img,box)\n",
    "\n",
    "while True:\n",
    "    timer=cv2.getTickCount()\n",
    "    success,img=cap.read()\n",
    "    success,box=tracker.update(img)\n",
    "    \n",
    "    if success:\n",
    "        drawbox(img,box)\n",
    "    else:\n",
    "        cv2.putText(img,'LOST',(75,75),cv2.FONT_HERSHEY_SIMPLEX,0.5,(0,0,255),2)\n",
    "    fps=cv2.getTickFrequency()/(cv2.getTickCount()-timer)\n",
    "    cv2.putText(img,str(int(fps)),(75,50),cv2.FONT_HERSHEY_COMPLEX,0.7,(0,0,255),2)\n",
    "        \n",
    "    cv2.imshow('tracking',img)\n",
    "        \n",
    "    if cv2.waitKey(1)&0xff==ord('q'):\n",
    "        break\n",
    "cap.release()\n",
    "cv2.destroyAllWindows\n",
    "        \n"
   ]
  },
  {
   "cell_type": "code",
   "execution_count": null,
   "id": "e88766e4",
   "metadata": {},
   "outputs": [],
   "source": []
  }
 ],
 "metadata": {
  "kernelspec": {
   "display_name": "Python 3 (ipykernel)",
   "language": "python",
   "name": "python3"
  },
  "language_info": {
   "codemirror_mode": {
    "name": "ipython",
    "version": 3
   },
   "file_extension": ".py",
   "mimetype": "text/x-python",
   "name": "python",
   "nbconvert_exporter": "python",
   "pygments_lexer": "ipython3",
   "version": "3.9.16"
  }
 },
 "nbformat": 4,
 "nbformat_minor": 5
}
