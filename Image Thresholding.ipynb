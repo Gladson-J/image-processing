{
 "cells": [
  {
   "cell_type": "code",
   "execution_count": 1,
   "id": "831122a3",
   "metadata": {},
   "outputs": [],
   "source": [
    "import cv2\n",
    "\n",
    "import numpy as nump"
   ]
  },
  {
   "cell_type": "code",
   "execution_count": 2,
   "id": "182b0cf1",
   "metadata": {},
   "outputs": [],
   "source": [
    "img=cv2.imread(\"text-image.jpg\")"
   ]
  },
  {
   "cell_type": "code",
   "execution_count": 3,
   "id": "582e0b80",
   "metadata": {},
   "outputs": [
    {
     "data": {
      "text/plain": [
       "-1"
      ]
     },
     "execution_count": 3,
     "metadata": {},
     "output_type": "execute_result"
    }
   ],
   "source": [
    "cv2.imshow(\"img\",img)\n",
    "cv2.waitKey(0)"
   ]
  },
  {
   "cell_type": "code",
   "execution_count": 3,
   "id": "1e5c57d0",
   "metadata": {},
   "outputs": [],
   "source": [
    "grey=cv2.imread(\"text-image.jpg\",0)\n",
    "                "
   ]
  },
  {
   "cell_type": "code",
   "execution_count": 17,
   "id": "d68bafbc",
   "metadata": {},
   "outputs": [
    {
     "data": {
      "text/plain": [
       "-1"
      ]
     },
     "execution_count": 17,
     "metadata": {},
     "output_type": "execute_result"
    }
   ],
   "source": [
    "cv2.imshow(\"grey\",grey)\n",
    "cv2.waitKey(0)"
   ]
  },
  {
   "cell_type": "code",
   "execution_count": 4,
   "id": "1377d700",
   "metadata": {},
   "outputs": [],
   "source": [
    "ret,thresh1=cv2.threshold(grey,15,150,cv2.THRESH_BINARY)\n",
    "ret,thresh2=cv2.threshold(grey,15,255,cv2.THRESH_BINARY_INV)\n",
    "ret,thresh3=cv2.threshold(grey,15,255,cv2.THRESH_TRUNC)\n",
    "ret,thresh4=cv2.threshold(grey,15,255,cv2.THRESH_TOZERO)\n",
    "ret,thresh5=cv2.threshold(grey,15,255,cv2.THRESH_TOZERO_INV)"
   ]
  },
  {
   "cell_type": "code",
   "execution_count": 16,
   "id": "92db6439",
   "metadata": {},
   "outputs": [
    {
     "data": {
      "text/plain": [
       "-1"
      ]
     },
     "execution_count": 16,
     "metadata": {},
     "output_type": "execute_result"
    }
   ],
   "source": [
    "cv2.imshow(\"img1\",thresh1)\n",
    "cv2.imshow(\"img2\",thresh2)\n",
    "cv2.imshow(\"img3\",thresh3)\n",
    "cv2.imshow(\"img4\",thresh4)\n",
    "cv2.imshow(\"img5\",thresh5)\n",
    "cv2.waitKey(0)\n"
   ]
  },
  {
   "cell_type": "markdown",
   "id": "61ad57b6",
   "metadata": {},
   "source": [
    "#    simple,adaptive,gaussian threshold"
   ]
  },
  {
   "cell_type": "code",
   "execution_count": 11,
   "id": "2e60ddfe",
   "metadata": {},
   "outputs": [],
   "source": [
    "ret,th1=cv2.threshold(grey,20,255,cv2.THRESH_BINARY)\n",
    "ath1=cv2.adaptiveThreshold(grey,255,cv2.ADAPTIVE_THRESH_MEAN_C,cv2.THRESH_BINARY,21,4)\n",
    "ath2=cv2.adaptiveThreshold(grey,255,cv2.ADAPTIVE_THRESH_GAUSSIAN_C,cv2.THRESH_BINARY,21,4)\n"
   ]
  },
  {
   "cell_type": "code",
   "execution_count": 14,
   "id": "0e8291af",
   "metadata": {},
   "outputs": [
    {
     "data": {
      "text/plain": [
       "-1"
      ]
     },
     "execution_count": 14,
     "metadata": {},
     "output_type": "execute_result"
    }
   ],
   "source": [
    "cv2.imshow(\"ORIGINAL\",grey)\n",
    "cv2.imshow(\"GLOBAL\",th1)\n",
    "cv2.imshow(\"ADAPTIVE MEAN\",ath1)\n",
    "cv2.imshow(\"ADAPTIVE GAUSSIAN\",ath2)\n",
    "cv2.waitKey(0)"
   ]
  },
  {
   "cell_type": "code",
   "execution_count": 15,
   "id": "6e4f53c7",
   "metadata": {},
   "outputs": [
    {
     "data": {
      "text/plain": [
       "True"
      ]
     },
     "execution_count": 15,
     "metadata": {},
     "output_type": "execute_result"
    }
   ],
   "source": [
    "cv2.imwrite('C:/Users/aedpu/Gladson-cse/ORIGINAL.jpg',grey)\n",
    "cv2.imwrite('C:/Users/aedpu/Gladson-cse/GLOBAL.jpg',th1)\n",
    "cv2.imwrite('C:/Users/aedpu/Gladson-cse/ADAPTIVE MEAN.jpg',ath1)\n",
    "cv2.imwrite('C:/Users/aedpu/Gladson-cse/ADAPTIVE GAUSSIAN.jpg',ath2)"
   ]
  },
  {
   "cell_type": "code",
   "execution_count": 16,
   "id": "72a3e7ef",
   "metadata": {},
   "outputs": [],
   "source": [
    "re,otsu=cv2.threshold(grey,0,255,cv2.THRESH_BINARY+cv2.THRESH_OTSU)"
   ]
  },
  {
   "cell_type": "code",
   "execution_count": 18,
   "id": "d90a5c83",
   "metadata": {},
   "outputs": [
    {
     "data": {
      "text/plain": [
       "-1"
      ]
     },
     "execution_count": 18,
     "metadata": {},
     "output_type": "execute_result"
    }
   ],
   "source": [
    "cv2.imshow(\"otsu\",otsu)\n",
    "cv2.waitKey(0)"
   ]
  },
  {
   "cell_type": "code",
   "execution_count": 19,
   "id": "2cd91d1e",
   "metadata": {},
   "outputs": [
    {
     "data": {
      "text/plain": [
       "True"
      ]
     },
     "execution_count": 19,
     "metadata": {},
     "output_type": "execute_result"
    }
   ],
   "source": [
    "cv2.imwrite('C:/Users/aedpu/Gladson-cse/OTSU.jpg',otsu)"
   ]
  },
  {
   "cell_type": "code",
   "execution_count": null,
   "id": "f9d9b418",
   "metadata": {},
   "outputs": [],
   "source": []
  }
 ],
 "metadata": {
  "kernelspec": {
   "display_name": "Python 3 (ipykernel)",
   "language": "python",
   "name": "python3"
  },
  "language_info": {
   "codemirror_mode": {
    "name": "ipython",
    "version": 3
   },
   "file_extension": ".py",
   "mimetype": "text/x-python",
   "name": "python",
   "nbconvert_exporter": "python",
   "pygments_lexer": "ipython3",
   "version": "3.9.16"
  }
 },
 "nbformat": 4,
 "nbformat_minor": 5
}
