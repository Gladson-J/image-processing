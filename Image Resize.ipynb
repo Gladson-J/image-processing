{
 "cells": [
  {
   "cell_type": "code",
   "execution_count": 7,
   "id": "b7ebaa41",
   "metadata": {},
   "outputs": [],
   "source": [
    "import cv2\n",
    "import numpy as nump"
   ]
  },
  {
   "cell_type": "code",
   "execution_count": 2,
   "id": "8ef0fe63",
   "metadata": {},
   "outputs": [],
   "source": [
    "flags=[i for i in dir(cv2) if i.startswith('COLOR_RGB2')]"
   ]
  },
  {
   "cell_type": "code",
   "execution_count": 3,
   "id": "4b063eb4",
   "metadata": {},
   "outputs": [
    {
     "name": "stdout",
     "output_type": "stream",
     "text": [
      "['COLOR_RGB2BGR', 'COLOR_RGB2BGR555', 'COLOR_RGB2BGR565', 'COLOR_RGB2BGRA', 'COLOR_RGB2GRAY', 'COLOR_RGB2HLS', 'COLOR_RGB2HLS_FULL', 'COLOR_RGB2HSV', 'COLOR_RGB2HSV_FULL', 'COLOR_RGB2LAB', 'COLOR_RGB2LUV', 'COLOR_RGB2Lab', 'COLOR_RGB2Luv', 'COLOR_RGB2RGBA', 'COLOR_RGB2XYZ', 'COLOR_RGB2YCR_CB', 'COLOR_RGB2YCrCb', 'COLOR_RGB2YUV', 'COLOR_RGB2YUV_I420', 'COLOR_RGB2YUV_IYUV', 'COLOR_RGB2YUV_YV12']\n"
     ]
    }
   ],
   "source": [
    "print(flags)"
   ]
  },
  {
   "cell_type": "code",
   "execution_count": 9,
   "id": "b01f3f9b",
   "metadata": {},
   "outputs": [],
   "source": [
    "img=cv2.imread(\"hd image.png\")"
   ]
  },
  {
   "cell_type": "code",
   "execution_count": 10,
   "id": "f92ec9f2",
   "metadata": {},
   "outputs": [
    {
     "data": {
      "text/plain": [
       "-1"
      ]
     },
     "execution_count": 10,
     "metadata": {},
     "output_type": "execute_result"
    }
   ],
   "source": [
    "cv2.imshow(\"img\",img)\n",
    "cv2.waitKey(0)"
   ]
  },
  {
   "cell_type": "code",
   "execution_count": 18,
   "id": "84d27431",
   "metadata": {},
   "outputs": [],
   "source": [
    "img2=cv2.cvtColor(img, cv2.COLOR_RGB2GRAY)"
   ]
  },
  {
   "cell_type": "code",
   "execution_count": null,
   "id": "2a79190c",
   "metadata": {},
   "outputs": [],
   "source": [
    "cv2.imshow(\"img2\",img2)\n",
    "cv2.waitKey(0)"
   ]
  },
  {
   "cell_type": "markdown",
   "id": "f8a49d1c",
   "metadata": {},
   "source": [
    "# IMAGE RESIZE"
   ]
  },
  {
   "cell_type": "code",
   "execution_count": 2,
   "id": "27ad117c",
   "metadata": {},
   "outputs": [],
   "source": [
    "img=cv2.imread(\"hd image.png\")"
   ]
  },
  {
   "cell_type": "code",
   "execution_count": 5,
   "id": "361eb4f5",
   "metadata": {},
   "outputs": [
    {
     "name": "stdout",
     "output_type": "stream",
     "text": [
      "(1080, 1920, 3)\n"
     ]
    }
   ],
   "source": [
    "print(img.shape)"
   ]
  },
  {
   "cell_type": "code",
   "execution_count": 15,
   "id": "b46358e6",
   "metadata": {},
   "outputs": [],
   "source": [
    "img_res=cv2.resize(img,None,fx=0.5,fy=0.5,interpolation=cv2.INTER_LINEAR)"
   ]
  },
  {
   "cell_type": "code",
   "execution_count": 16,
   "id": "0b8277f8",
   "metadata": {},
   "outputs": [
    {
     "data": {
      "text/plain": [
       "-1"
      ]
     },
     "execution_count": 16,
     "metadata": {},
     "output_type": "execute_result"
    }
   ],
   "source": [
    "cv2.imshow(\"img_res\",img_res)\n",
    "cv2.waitKey(0)"
   ]
  },
  {
   "cell_type": "markdown",
   "id": "a89c7e23",
   "metadata": {},
   "source": [
    "#  RESIZING INTERPOLATION METHODS\n",
    "1.cv2.INTER_CUBIC\n",
    "\n",
    "\n",
    "2.cv2.INTER_AREA"
   ]
  },
  {
   "cell_type": "markdown",
   "id": "185f0b4e",
   "metadata": {},
   "source": [
    "#  ANOTHER WAY OF RESIZING"
   ]
  },
  {
   "cell_type": "code",
   "execution_count": 34,
   "id": "da9cf879",
   "metadata": {},
   "outputs": [],
   "source": [
    "img_res2=cv2.resize(img,(1080,720))"
   ]
  },
  {
   "cell_type": "code",
   "execution_count": 30,
   "id": "f5e1a528",
   "metadata": {},
   "outputs": [
    {
     "data": {
      "text/plain": [
       "-1"
      ]
     },
     "execution_count": 30,
     "metadata": {},
     "output_type": "execute_result"
    }
   ],
   "source": [
    "cv2.imshow(\"img_res2\",img_res2)\n",
    "cv2.waitKey(0)"
   ]
  },
  {
   "cell_type": "markdown",
   "id": "55f97881",
   "metadata": {},
   "source": [
    "# IMAGE BLURING"
   ]
  },
  {
   "cell_type": "code",
   "execution_count": 25,
   "id": "904e2b2b",
   "metadata": {},
   "outputs": [],
   "source": [
    "kernel=nump.ones((7,7),float)/49"
   ]
  },
  {
   "cell_type": "code",
   "execution_count": 26,
   "id": "90341595",
   "metadata": {},
   "outputs": [],
   "source": [
    "tdf=cv2.filter2D(img_res2,-100,kernel)"
   ]
  },
  {
   "cell_type": "code",
   "execution_count": 27,
   "id": "e60d295d",
   "metadata": {},
   "outputs": [
    {
     "data": {
      "text/plain": [
       "-1"
      ]
     },
     "execution_count": 27,
     "metadata": {},
     "output_type": "execute_result"
    }
   ],
   "source": [
    "cv2.imshow(\"img_res2\",img_res2)\n",
    "cv2.waitKey(0)\n",
    "cv2.imshow(\"img_res2\",tdf)\n",
    "cv2.waitKey(0)"
   ]
  },
  {
   "cell_type": "markdown",
   "id": "76e148b1",
   "metadata": {},
   "source": [
    "#   IMAGE BLUR-AVERAGE"
   ]
  },
  {
   "cell_type": "code",
   "execution_count": 36,
   "id": "c00f2e77",
   "metadata": {},
   "outputs": [],
   "source": [
    "avg=cv2.blur(img_res2,(5,5))"
   ]
  },
  {
   "cell_type": "code",
   "execution_count": 37,
   "id": "695ad5b4",
   "metadata": {},
   "outputs": [
    {
     "data": {
      "text/plain": [
       "-1"
      ]
     },
     "execution_count": 37,
     "metadata": {},
     "output_type": "execute_result"
    }
   ],
   "source": [
    "cv2.imshow(\"img_res2\",img_res2)\n",
    "cv2.waitKey(0)\n",
    "cv2.imshow(\"img_res2\",tdf)\n",
    "cv2.waitKey(0)"
   ]
  },
  {
   "cell_type": "markdown",
   "id": "3e247f51",
   "metadata": {},
   "source": [
    "#  IMAGE BLUR-GAUSSIAN FILTER"
   ]
  },
  {
   "cell_type": "markdown",
   "id": "f7abf583",
   "metadata": {},
   "source": [
    "gauss="
   ]
  },
  {
   "cell_type": "code",
   "execution_count": null,
   "id": "30ec560f",
   "metadata": {},
   "outputs": [],
   "source": []
  }
 ],
 "metadata": {
  "kernelspec": {
   "display_name": "Python 3 (ipykernel)",
   "language": "python",
   "name": "python3"
  },
  "language_info": {
   "codemirror_mode": {
    "name": "ipython",
    "version": 3
   },
   "file_extension": ".py",
   "mimetype": "text/x-python",
   "name": "python",
   "nbconvert_exporter": "python",
   "pygments_lexer": "ipython3",
   "version": "3.9.16"
  }
 },
 "nbformat": 4,
 "nbformat_minor": 5
}
