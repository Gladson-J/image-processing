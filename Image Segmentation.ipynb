{
 "cells": [
  {
   "cell_type": "code",
   "execution_count": 1,
   "id": "944402ec",
   "metadata": {},
   "outputs": [],
   "source": [
    "import cv2\n",
    "import numpy as np"
   ]
  },
  {
   "cell_type": "code",
   "execution_count": 21,
   "id": "68fd5db3",
   "metadata": {},
   "outputs": [
    {
     "data": {
      "text/plain": [
       "-1"
      ]
     },
     "execution_count": 21,
     "metadata": {},
     "output_type": "execute_result"
    }
   ],
   "source": [
    "img=cv2.imread(\"city3.jpg\")\n",
    "cv2.imshow(\"original\",img)\n",
    "cv2.waitKey(0)"
   ]
  },
  {
   "cell_type": "markdown",
   "id": "e34b0e16",
   "metadata": {},
   "source": [
    "### RGB conversion"
   ]
  },
  {
   "cell_type": "code",
   "execution_count": 22,
   "id": "a970ca80",
   "metadata": {},
   "outputs": [],
   "source": [
    "imrgb=cv2.cvtColor(img,cv2.COLOR_BGR2RGB)"
   ]
  },
  {
   "cell_type": "markdown",
   "id": "77483d57",
   "metadata": {},
   "source": [
    "### Reshape"
   ]
  },
  {
   "cell_type": "code",
   "execution_count": 43,
   "id": "669bb852",
   "metadata": {},
   "outputs": [],
   "source": [
    "vec=imrgb.reshape((-1,3))\n"
   ]
  },
  {
   "cell_type": "markdown",
   "id": "f88503a6",
   "metadata": {},
   "source": [
    "### Float conversion"
   ]
  },
  {
   "cell_type": "code",
   "execution_count": 24,
   "id": "256cd047",
   "metadata": {},
   "outputs": [],
   "source": [
    "vec=np.float32(vec)"
   ]
  },
  {
   "cell_type": "markdown",
   "id": "0a5053bb",
   "metadata": {},
   "source": [
    "### Iteration Termination Criteria"
   ]
  },
  {
   "cell_type": "code",
   "execution_count": 25,
   "id": "4e9543ea",
   "metadata": {},
   "outputs": [],
   "source": [
    "criteria=(cv2.TERM_CRITERIA_EPS+cv2.TERM_CRITERIA_MAX_ITER,100,1)"
   ]
  },
  {
   "cell_type": "markdown",
   "id": "b631f641",
   "metadata": {},
   "source": [
    "### Cluster condition"
   ]
  },
  {
   "cell_type": "code",
   "execution_count": 38,
   "id": "3a5c33ac",
   "metadata": {},
   "outputs": [],
   "source": [
    "k=5\n",
    "attempts=50"
   ]
  },
  {
   "cell_type": "markdown",
   "id": "e8066ac1",
   "metadata": {},
   "source": [
    "### K-mean Clustering"
   ]
  },
  {
   "cell_type": "code",
   "execution_count": 27,
   "id": "732cafb2",
   "metadata": {},
   "outputs": [],
   "source": [
    "ret,labe,.kil,center=cv2.kmeans(vec,k,None,criteria,attempts,cv2.KMEANS_PP_CENTERS)"
   ]
  },
  {
   "cell_type": "markdown",
   "id": "501e3ffc",
   "metadata": {},
   "source": [
    "### unit conversion"
   ]
  },
  {
   "cell_type": "code",
   "execution_count": 28,
   "id": "fbb103dd",
   "metadata": {},
   "outputs": [],
   "source": [
    "center=np.uint8(center)"
   ]
  },
  {
   "cell_type": "markdown",
   "id": "81d5fba4",
   "metadata": {},
   "source": [
    "### Flattening and Reshape"
   ]
  },
  {
   "cell_type": "code",
   "execution_count": 29,
   "id": "3c2b5c7f",
   "metadata": {},
   "outputs": [],
   "source": [
    "res=center[label.flatten()]\n",
    "res_img=res.reshape((imrgb.shape))"
   ]
  },
  {
   "cell_type": "code",
   "execution_count": 39,
   "id": "25d86559",
   "metadata": {},
   "outputs": [],
   "source": [
    "\n",
    "cv2.imshow(\"original\",img)\n",
    "cv2.imshow(\"segmented\",res_img)\n",
    "if cv2.waitKey(0)& 0xff==27:\n",
    "    \n",
    "    cv2.destoryAllWindows()"
   ]
  },
  {
   "cell_type": "code",
   "execution_count": null,
   "id": "52776ce2",
   "metadata": {},
   "outputs": [],
   "source": []
  },
  {
   "cell_type": "code",
   "execution_count": null,
   "id": "d8629ff0",
   "metadata": {},
   "outputs": [],
   "source": []
  }
 ],
 "metadata": {
  "kernelspec": {
   "display_name": "Python 3 (ipykernel)",
   "language": "python",
   "name": "python3"
  },
  "language_info": {
   "codemirror_mode": {
    "name": "ipython",
    "version": 3
   },
   "file_extension": ".py",
   "mimetype": "text/x-python",
   "name": "python",
   "nbconvert_exporter": "python",
   "pygments_lexer": "ipython3",
   "version": "3.9.16"
  }
 },
 "nbformat": 4,
 "nbformat_minor": 5
}
