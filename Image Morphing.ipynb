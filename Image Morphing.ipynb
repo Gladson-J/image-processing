{
 "cells": [
  {
   "cell_type": "code",
   "execution_count": 1,
   "id": "751bdb80",
   "metadata": {},
   "outputs": [],
   "source": [
    "import cv2"
   ]
  },
  {
   "cell_type": "code",
   "execution_count": 2,
   "id": "0a831bce",
   "metadata": {},
   "outputs": [],
   "source": [
    "import numpy as np"
   ]
  },
  {
   "cell_type": "code",
   "execution_count": 3,
   "id": "6b75dfca",
   "metadata": {},
   "outputs": [],
   "source": [
    "img=cv2.imread(\"birds.jpg\")"
   ]
  },
  {
   "cell_type": "code",
   "execution_count": 4,
   "id": "1da2345a",
   "metadata": {},
   "outputs": [],
   "source": [
    "kernel=np.ones((3,3),np.uint8)"
   ]
  },
  {
   "cell_type": "markdown",
   "id": "46a89391",
   "metadata": {},
   "source": [
    "## Erosion"
   ]
  },
  {
   "cell_type": "code",
   "execution_count": 5,
   "id": "53276311",
   "metadata": {},
   "outputs": [],
   "source": [
    "erosion=cv2.erode(img,kernel,iterations=7)"
   ]
  },
  {
   "cell_type": "code",
   "execution_count": 7,
   "id": "72ea0744",
   "metadata": {},
   "outputs": [
    {
     "data": {
      "text/plain": [
       "-1"
      ]
     },
     "execution_count": 7,
     "metadata": {},
     "output_type": "execute_result"
    }
   ],
   "source": [
    "cv2.imshow(\"original\",img)\n",
    "cv2.waitKey(0)\n",
    "cv2.imshow(\"erosion\",erosion)\n",
    "cv2.waitKey(0)"
   ]
  },
  {
   "cell_type": "code",
   "execution_count": 8,
   "id": "ce91520e",
   "metadata": {},
   "outputs": [
    {
     "data": {
      "text/plain": [
       "True"
      ]
     },
     "execution_count": 8,
     "metadata": {},
     "output_type": "execute_result"
    }
   ],
   "source": [
    "cv2.imwrite('C:/Users/aedpu/Gladson-cse/eroded image.jpg',erosion)"
   ]
  },
  {
   "cell_type": "markdown",
   "id": "371218aa",
   "metadata": {},
   "source": [
    "## Dilation"
   ]
  },
  {
   "cell_type": "code",
   "execution_count": 12,
   "id": "f79ed437",
   "metadata": {},
   "outputs": [],
   "source": [
    "dilation=cv2.dilate(img,kernel,iterations=3)"
   ]
  },
  {
   "cell_type": "code",
   "execution_count": 13,
   "id": "21d06f46",
   "metadata": {},
   "outputs": [
    {
     "data": {
      "text/plain": [
       "-1"
      ]
     },
     "execution_count": 13,
     "metadata": {},
     "output_type": "execute_result"
    }
   ],
   "source": [
    "cv2.imshow(\"original\",img)\n",
    "cv2.waitKey(0)\n",
    "cv2.imshow(\"dilation\",dilation)\n",
    "cv2.waitKey(0)"
   ]
  },
  {
   "cell_type": "code",
   "execution_count": 14,
   "id": "539864cb",
   "metadata": {},
   "outputs": [
    {
     "data": {
      "text/plain": [
       "True"
      ]
     },
     "execution_count": 14,
     "metadata": {},
     "output_type": "execute_result"
    }
   ],
   "source": [
    "cv2.imwrite('C:/Users/aedpu/Gladson-cse/dilated image.jpg',dilation)"
   ]
  },
  {
   "cell_type": "markdown",
   "id": "fdf843fd",
   "metadata": {},
   "source": [
    "## Morphological operation-Erosion followed by Dilation"
   ]
  },
  {
   "cell_type": "code",
   "execution_count": 23,
   "id": "4987d5ba",
   "metadata": {},
   "outputs": [],
   "source": [
    "open=cv2.morphologyEx(img,cv2.MORPH_OPEN,kernel)"
   ]
  },
  {
   "cell_type": "code",
   "execution_count": 25,
   "id": "8a739abb",
   "metadata": {},
   "outputs": [
    {
     "data": {
      "text/plain": [
       "-1"
      ]
     },
     "execution_count": 25,
     "metadata": {},
     "output_type": "execute_result"
    }
   ],
   "source": [
    "cv2.imshow(\"original\",img)\n",
    "cv2.waitKey(0)\n",
    "cv2.imshow(\"morph-open\",open)\n",
    "cv2.waitKey(0)"
   ]
  },
  {
   "cell_type": "code",
   "execution_count": 32,
   "id": "3eb2a9af",
   "metadata": {},
   "outputs": [
    {
     "data": {
      "text/plain": [
       "True"
      ]
     },
     "execution_count": 32,
     "metadata": {},
     "output_type": "execute_result"
    }
   ],
   "source": [
    "cv2.imwrite('C:/Users/aedpu/Gladson-cse/Morph_open image.jpg',dilation)"
   ]
  },
  {
   "cell_type": "markdown",
   "id": "5c847f4f",
   "metadata": {},
   "source": [
    "##   Morphological closing-Dilation followed by erosion"
   ]
  },
  {
   "cell_type": "code",
   "execution_count": 26,
   "id": "7c7e9279",
   "metadata": {},
   "outputs": [],
   "source": [
    "close=cv2.morphologyEx(img,cv2.MORPH_CLOSE,kernel)"
   ]
  },
  {
   "cell_type": "code",
   "execution_count": 27,
   "id": "8dd4e3b0",
   "metadata": {},
   "outputs": [
    {
     "data": {
      "text/plain": [
       "-1"
      ]
     },
     "execution_count": 27,
     "metadata": {},
     "output_type": "execute_result"
    }
   ],
   "source": [
    "cv2.imshow(\"original\",img)\n",
    "cv2.waitKey(0)\n",
    "cv2.imshow(\"morph-close\",close)\n",
    "cv2.waitKey(0)"
   ]
  },
  {
   "cell_type": "code",
   "execution_count": 33,
   "id": "e12b4b11",
   "metadata": {},
   "outputs": [
    {
     "data": {
      "text/plain": [
       "True"
      ]
     },
     "execution_count": 33,
     "metadata": {},
     "output_type": "execute_result"
    }
   ],
   "source": [
    "cv2.imwrite('C:/Users/aedpu/Gladson-cse/Morph-open image.jpg',dilation)"
   ]
  },
  {
   "cell_type": "markdown",
   "id": "8fb031d6",
   "metadata": {},
   "source": [
    "##    Morphological Gradient-errosion,dilation,difference of both"
   ]
  },
  {
   "cell_type": "code",
   "execution_count": 28,
   "id": "25f50761",
   "metadata": {},
   "outputs": [],
   "source": [
    "gradient=cv2.morphologyEx(img,cv2.MORPH_GRADIENT,kernel)"
   ]
  },
  {
   "cell_type": "code",
   "execution_count": 31,
   "id": "07e88d7a",
   "metadata": {},
   "outputs": [
    {
     "data": {
      "text/plain": [
       "-1"
      ]
     },
     "execution_count": 31,
     "metadata": {},
     "output_type": "execute_result"
    }
   ],
   "source": [
    "cv2.imshow(\"original\",img)\n",
    "cv2.imshow(\"Morph-Gradient\",gradient)\n",
    "cv2.waitKey(0)"
   ]
  },
  {
   "cell_type": "code",
   "execution_count": 34,
   "id": "5fe3d42a",
   "metadata": {},
   "outputs": [
    {
     "data": {
      "text/plain": [
       "True"
      ]
     },
     "execution_count": 34,
     "metadata": {},
     "output_type": "execute_result"
    }
   ],
   "source": [
    "cv2.imwrite('C:/Users/aedpu/Gladson-cse/Morph-Gradien image.jpg',dilation)"
   ]
  },
  {
   "cell_type": "markdown",
   "id": "8b27fe1a",
   "metadata": {},
   "source": [
    "##  Top Hat-Opening and diff.of original and opening"
   ]
  },
  {
   "cell_type": "code",
   "execution_count": 36,
   "id": "9404dea7",
   "metadata": {},
   "outputs": [],
   "source": [
    "tophat=cv2.morphologyEx(img,cv2.MORPH_TOPHAT,kernel)"
   ]
  },
  {
   "cell_type": "code",
   "execution_count": null,
   "id": "32ba5e83",
   "metadata": {},
   "outputs": [],
   "source": [
    "cv2.imshow(\"original\",img)\n",
    "cv2.imshow(\"TOP HAT\",tophat)\n",
    "cv2.waitKey(0)"
   ]
  },
  {
   "cell_type": "markdown",
   "id": "eae57ce4",
   "metadata": {},
   "source": [
    "## Black Hat-opp of top hat"
   ]
  },
  {
   "cell_type": "code",
   "execution_count": 5,
   "id": "fdcbe5e6",
   "metadata": {},
   "outputs": [],
   "source": [
    "blackhat=cv2.morphologyEx(img,cv2.MORPH_BLACKHAT,kernel)"
   ]
  },
  {
   "cell_type": "code",
   "execution_count": 6,
   "id": "99909b8d",
   "metadata": {},
   "outputs": [
    {
     "data": {
      "text/plain": [
       "-1"
      ]
     },
     "execution_count": 6,
     "metadata": {},
     "output_type": "execute_result"
    }
   ],
   "source": [
    "cv2.imshow(\"original\",img)\n",
    "cv2.imshow(\"BLACK HAT\",blackhat)\n",
    "cv2.waitKey(0)"
   ]
  },
  {
   "cell_type": "code",
   "execution_count": null,
   "id": "bf306054",
   "metadata": {},
   "outputs": [],
   "source": []
  }
 ],
 "metadata": {
  "kernelspec": {
   "display_name": "Python 3 (ipykernel)",
   "language": "python",
   "name": "python3"
  },
  "language_info": {
   "codemirror_mode": {
    "name": "ipython",
    "version": 3
   },
   "file_extension": ".py",
   "mimetype": "text/x-python",
   "name": "python",
   "nbconvert_exporter": "python",
   "pygments_lexer": "ipython3",
   "version": "3.9.16"
  }
 },
 "nbformat": 4,
 "nbformat_minor": 5
}
