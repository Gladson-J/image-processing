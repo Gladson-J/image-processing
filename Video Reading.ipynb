{
 "cells": [
  {
   "cell_type": "code",
   "execution_count": 6,
   "id": "9852e4d9",
   "metadata": {},
   "outputs": [],
   "source": [
    "import cv2 \n",
    "import numpy as np"
   ]
  },
  {
   "cell_type": "markdown",
   "id": "08efdca9",
   "metadata": {},
   "source": [
    "#  Video Reading"
   ]
  },
  {
   "cell_type": "code",
   "execution_count": 7,
   "id": "ed27c5c7",
   "metadata": {},
   "outputs": [],
   "source": [
    "video=cv2.VideoCapture('video1.mp4')"
   ]
  },
  {
   "cell_type": "code",
   "execution_count": 8,
   "id": "d4079002",
   "metadata": {},
   "outputs": [],
   "source": [
    "while(video.isOpened()):\n",
    "    ret,frame=video.read\n",
    "    cv2.imshow('origin',frame)\n",
    "    if cv2.waitKey(1)& 0xFF ==ord('q'):\n",
    "        break\n",
    "        \n",
    "video.release()\n",
    "cv2.destroyAllWindows()\n",
    "    "
   ]
  },
  {
   "cell_type": "markdown",
   "id": "8c58e963",
   "metadata": {},
   "source": [
    "#  Web cam"
   ]
  },
  {
   "cell_type": "code",
   "execution_count": 9,
   "id": "7150a3b5",
   "metadata": {},
   "outputs": [],
   "source": [
    "web=cv2.VideoCapture(0)"
   ]
  },
  {
   "cell_type": "code",
   "execution_count": 10,
   "id": "b5e8e7f3",
   "metadata": {},
   "outputs": [],
   "source": [
    "while(web.isOpened()):\n",
    "    ret,frame=web.read\n",
    "    cv2.imshow('origin',frame)\n",
    "    if cv2.waitKey(1)& 0xFF ==ord('q'):\n",
    "        break\n",
    "        \n",
    "web.release()\n",
    "cv2.destroyAllWindows()"
   ]
  },
  {
   "cell_type": "code",
   "execution_count": null,
   "id": "f1de0ad5",
   "metadata": {},
   "outputs": [],
   "source": []
  }
 ],
 "metadata": {
  "kernelspec": {
   "display_name": "Python 3 (ipykernel)",
   "language": "python",
   "name": "python3"
  },
  "language_info": {
   "codemirror_mode": {
    "name": "ipython",
    "version": 3
   },
   "file_extension": ".py",
   "mimetype": "text/x-python",
   "name": "python",
   "nbconvert_exporter": "python",
   "pygments_lexer": "ipython3",
   "version": "3.9.16"
  }
 },
 "nbformat": 4,
 "nbformat_minor": 5
}
