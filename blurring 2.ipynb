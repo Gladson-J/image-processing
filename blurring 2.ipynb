{
 "cells": [
  {
   "cell_type": "code",
   "execution_count": 4,
   "id": "5da0dee0",
   "metadata": {},
   "outputs": [],
   "source": [
    "import cv2"
   ]
  },
  {
   "cell_type": "markdown",
   "id": "22e71247",
   "metadata": {},
   "source": [
    "# median filtering"
   ]
  },
  {
   "cell_type": "code",
   "execution_count": 45,
   "id": "b5c66868",
   "metadata": {},
   "outputs": [],
   "source": [
    "img=cv2.imread(\"rose.jpg\")"
   ]
  },
  {
   "cell_type": "code",
   "execution_count": 11,
   "id": "f21147a2",
   "metadata": {},
   "outputs": [],
   "source": [
    "med=cv2.medianBlur(img,5)"
   ]
  },
  {
   "cell_type": "code",
   "execution_count": 12,
   "id": "ac01e156",
   "metadata": {},
   "outputs": [
    {
     "data": {
      "text/plain": [
       "-1"
      ]
     },
     "execution_count": 12,
     "metadata": {},
     "output_type": "execute_result"
    }
   ],
   "source": [
    "cv2.imshow(\"img\",img)\n",
    "cv2.waitKey(0)\n",
    "cv2.imshow(\"med\",med)\n",
    "cv2.waitKey(0)"
   ]
  },
  {
   "cell_type": "markdown",
   "id": "cc26119a",
   "metadata": {},
   "source": [
    "#  Bilateral filter"
   ]
  },
  {
   "cell_type": "code",
   "execution_count": 48,
   "id": "10509f98",
   "metadata": {},
   "outputs": [],
   "source": [
    "bilat= cv2.bilateralFilter(img,60,50,70)"
   ]
  },
  {
   "cell_type": "code",
   "execution_count": 49,
   "id": "e3b5ec00",
   "metadata": {},
   "outputs": [
    {
     "data": {
      "text/plain": [
       "-1"
      ]
     },
     "execution_count": 49,
     "metadata": {},
     "output_type": "execute_result"
    }
   ],
   "source": [
    "cv2.imshow(\"img\",img)\n",
    "cv2.waitKey(0)\n",
    "cv2.imshow(\"bilateral\",bilat)\n",
    "cv2.waitKey(0)"
   ]
  },
  {
   "cell_type": "code",
   "execution_count": null,
   "id": "e1138c6b",
   "metadata": {},
   "outputs": [],
   "source": []
  },
  {
   "cell_type": "code",
   "execution_count": null,
   "id": "63a05b96",
   "metadata": {},
   "outputs": [],
   "source": []
  }
 ],
 "metadata": {
  "kernelspec": {
   "display_name": "Python 3 (ipykernel)",
   "language": "python",
   "name": "python3"
  },
  "language_info": {
   "codemirror_mode": {
    "name": "ipython",
    "version": 3
   },
   "file_extension": ".py",
   "mimetype": "text/x-python",
   "name": "python",
   "nbconvert_exporter": "python",
   "pygments_lexer": "ipython3",
   "version": "3.9.16"
  }
 },
 "nbformat": 4,
 "nbformat_minor": 5
}
